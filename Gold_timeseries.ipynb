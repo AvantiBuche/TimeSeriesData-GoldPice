{
  "nbformat": 4,
  "nbformat_minor": 0,
  "metadata": {
    "colab": {
      "provenance": [],
      "gpuType": "T4"
    },
    "kernelspec": {
      "name": "python3",
      "display_name": "Python 3"
    },
    "language_info": {
      "name": "python"
    },
    "accelerator": "GPU",
    "gpuClass": "standard"
  },
  "cells": [
    {
      "cell_type": "code",
      "execution_count": 1,
      "metadata": {
        "id": "kC_LkzY1qAqb"
      },
      "outputs": [],
      "source": [
        "import numpy as np\n",
        "import pandas as pd\n",
        "import matplotlib.pyplot as plt\n",
        "from sklearn.preprocessing import  MinMaxScaler\n",
        "import seaborn as sns\n",
        "sns.set_style('whitegrid')\n",
        "from keras.models import  Sequential,load_model\n",
        "from keras.layers import LSTM,Dense,Dropout"
      ]
    },
    {
      "cell_type": "code",
      "source": [
        "import os\n",
        "df = pd.read_csv('gold-daily-price.csv')"
      ],
      "metadata": {
        "id": "7ow7yPMCqssy"
      },
      "execution_count": 2,
      "outputs": []
    },
    {
      "cell_type": "code",
      "source": [
        "df"
      ],
      "metadata": {
        "colab": {
          "base_uri": "https://localhost:8080/",
          "height": 655
        },
        "id": "huXl3mkIq23j",
        "outputId": "40543878-70d9-465b-9121-5c60ae68fcdc"
      },
      "execution_count": 3,
      "outputs": [
        {
          "output_type": "execute_result",
          "data": {
            "text/plain": [
              "             Date    Price    Open    High      Low   Volume    Chg%\n",
              "0      03/01/1975   174.70   173.0   175.5   170.50        0  -0.23%\n",
              "1      06/01/1975   174.40   172.0   174.5   167.50        0  -0.17%\n",
              "2      07/01/1975   173.40   171.0   174.0   168.50        0  -0.57%\n",
              "3      08/01/1975   177.40   176.0   180.0   176.00        0   2.31%\n",
              "4      09/01/1975   178.30   179.0   179.1   177.00        0   0.51%\n",
              "...           ...      ...     ...     ...      ...      ...     ...\n",
              "12262  11/05/2023  2020.50  2036.8  2047.6  2016.70  296.98K  -0.81%\n",
              "12263  12/05/2023  2019.80  2020.5  2027.8  2005.70  220.50K  -0.03%\n",
              "12264  15/05/2023  2022.70  2013.4  2027.5  2011.20  163.25K   0.14%\n",
              "12265  16/05/2023  1993.00  2021.3  2022.7  1989.10  229.94K  -1.47%\n",
              "12266  17/05/2023  1986.25  1993.7  1996.8  1978.35        0  -0.34%\n",
              "\n",
              "[12267 rows x 7 columns]"
            ],
            "text/html": [
              "\n",
              "  <div id=\"df-32fe3654-915f-4774-8d47-ad78a1bb1bea\">\n",
              "    <div class=\"colab-df-container\">\n",
              "      <div>\n",
              "<style scoped>\n",
              "    .dataframe tbody tr th:only-of-type {\n",
              "        vertical-align: middle;\n",
              "    }\n",
              "\n",
              "    .dataframe tbody tr th {\n",
              "        vertical-align: top;\n",
              "    }\n",
              "\n",
              "    .dataframe thead th {\n",
              "        text-align: right;\n",
              "    }\n",
              "</style>\n",
              "<table border=\"1\" class=\"dataframe\">\n",
              "  <thead>\n",
              "    <tr style=\"text-align: right;\">\n",
              "      <th></th>\n",
              "      <th>Date</th>\n",
              "      <th>Price</th>\n",
              "      <th>Open</th>\n",
              "      <th>High</th>\n",
              "      <th>Low</th>\n",
              "      <th>Volume</th>\n",
              "      <th>Chg%</th>\n",
              "    </tr>\n",
              "  </thead>\n",
              "  <tbody>\n",
              "    <tr>\n",
              "      <th>0</th>\n",
              "      <td>03/01/1975</td>\n",
              "      <td>174.70</td>\n",
              "      <td>173.0</td>\n",
              "      <td>175.5</td>\n",
              "      <td>170.50</td>\n",
              "      <td>0</td>\n",
              "      <td>-0.23%</td>\n",
              "    </tr>\n",
              "    <tr>\n",
              "      <th>1</th>\n",
              "      <td>06/01/1975</td>\n",
              "      <td>174.40</td>\n",
              "      <td>172.0</td>\n",
              "      <td>174.5</td>\n",
              "      <td>167.50</td>\n",
              "      <td>0</td>\n",
              "      <td>-0.17%</td>\n",
              "    </tr>\n",
              "    <tr>\n",
              "      <th>2</th>\n",
              "      <td>07/01/1975</td>\n",
              "      <td>173.40</td>\n",
              "      <td>171.0</td>\n",
              "      <td>174.0</td>\n",
              "      <td>168.50</td>\n",
              "      <td>0</td>\n",
              "      <td>-0.57%</td>\n",
              "    </tr>\n",
              "    <tr>\n",
              "      <th>3</th>\n",
              "      <td>08/01/1975</td>\n",
              "      <td>177.40</td>\n",
              "      <td>176.0</td>\n",
              "      <td>180.0</td>\n",
              "      <td>176.00</td>\n",
              "      <td>0</td>\n",
              "      <td>2.31%</td>\n",
              "    </tr>\n",
              "    <tr>\n",
              "      <th>4</th>\n",
              "      <td>09/01/1975</td>\n",
              "      <td>178.30</td>\n",
              "      <td>179.0</td>\n",
              "      <td>179.1</td>\n",
              "      <td>177.00</td>\n",
              "      <td>0</td>\n",
              "      <td>0.51%</td>\n",
              "    </tr>\n",
              "    <tr>\n",
              "      <th>...</th>\n",
              "      <td>...</td>\n",
              "      <td>...</td>\n",
              "      <td>...</td>\n",
              "      <td>...</td>\n",
              "      <td>...</td>\n",
              "      <td>...</td>\n",
              "      <td>...</td>\n",
              "    </tr>\n",
              "    <tr>\n",
              "      <th>12262</th>\n",
              "      <td>11/05/2023</td>\n",
              "      <td>2020.50</td>\n",
              "      <td>2036.8</td>\n",
              "      <td>2047.6</td>\n",
              "      <td>2016.70</td>\n",
              "      <td>296.98K</td>\n",
              "      <td>-0.81%</td>\n",
              "    </tr>\n",
              "    <tr>\n",
              "      <th>12263</th>\n",
              "      <td>12/05/2023</td>\n",
              "      <td>2019.80</td>\n",
              "      <td>2020.5</td>\n",
              "      <td>2027.8</td>\n",
              "      <td>2005.70</td>\n",
              "      <td>220.50K</td>\n",
              "      <td>-0.03%</td>\n",
              "    </tr>\n",
              "    <tr>\n",
              "      <th>12264</th>\n",
              "      <td>15/05/2023</td>\n",
              "      <td>2022.70</td>\n",
              "      <td>2013.4</td>\n",
              "      <td>2027.5</td>\n",
              "      <td>2011.20</td>\n",
              "      <td>163.25K</td>\n",
              "      <td>0.14%</td>\n",
              "    </tr>\n",
              "    <tr>\n",
              "      <th>12265</th>\n",
              "      <td>16/05/2023</td>\n",
              "      <td>1993.00</td>\n",
              "      <td>2021.3</td>\n",
              "      <td>2022.7</td>\n",
              "      <td>1989.10</td>\n",
              "      <td>229.94K</td>\n",
              "      <td>-1.47%</td>\n",
              "    </tr>\n",
              "    <tr>\n",
              "      <th>12266</th>\n",
              "      <td>17/05/2023</td>\n",
              "      <td>1986.25</td>\n",
              "      <td>1993.7</td>\n",
              "      <td>1996.8</td>\n",
              "      <td>1978.35</td>\n",
              "      <td>0</td>\n",
              "      <td>-0.34%</td>\n",
              "    </tr>\n",
              "  </tbody>\n",
              "</table>\n",
              "<p>12267 rows × 7 columns</p>\n",
              "</div>\n",
              "      <button class=\"colab-df-convert\" onclick=\"convertToInteractive('df-32fe3654-915f-4774-8d47-ad78a1bb1bea')\"\n",
              "              title=\"Convert this dataframe to an interactive table.\"\n",
              "              style=\"display:none;\">\n",
              "        \n",
              "  <svg xmlns=\"http://www.w3.org/2000/svg\" height=\"24px\"viewBox=\"0 0 24 24\"\n",
              "       width=\"24px\">\n",
              "    <path d=\"M0 0h24v24H0V0z\" fill=\"none\"/>\n",
              "    <path d=\"M18.56 5.44l.94 2.06.94-2.06 2.06-.94-2.06-.94-.94-2.06-.94 2.06-2.06.94zm-11 1L8.5 8.5l.94-2.06 2.06-.94-2.06-.94L8.5 2.5l-.94 2.06-2.06.94zm10 10l.94 2.06.94-2.06 2.06-.94-2.06-.94-.94-2.06-.94 2.06-2.06.94z\"/><path d=\"M17.41 7.96l-1.37-1.37c-.4-.4-.92-.59-1.43-.59-.52 0-1.04.2-1.43.59L10.3 9.45l-7.72 7.72c-.78.78-.78 2.05 0 2.83L4 21.41c.39.39.9.59 1.41.59.51 0 1.02-.2 1.41-.59l7.78-7.78 2.81-2.81c.8-.78.8-2.07 0-2.86zM5.41 20L4 18.59l7.72-7.72 1.47 1.35L5.41 20z\"/>\n",
              "  </svg>\n",
              "      </button>\n",
              "      \n",
              "  <style>\n",
              "    .colab-df-container {\n",
              "      display:flex;\n",
              "      flex-wrap:wrap;\n",
              "      gap: 12px;\n",
              "    }\n",
              "\n",
              "    .colab-df-convert {\n",
              "      background-color: #E8F0FE;\n",
              "      border: none;\n",
              "      border-radius: 50%;\n",
              "      cursor: pointer;\n",
              "      display: none;\n",
              "      fill: #1967D2;\n",
              "      height: 32px;\n",
              "      padding: 0 0 0 0;\n",
              "      width: 32px;\n",
              "    }\n",
              "\n",
              "    .colab-df-convert:hover {\n",
              "      background-color: #E2EBFA;\n",
              "      box-shadow: 0px 1px 2px rgba(60, 64, 67, 0.3), 0px 1px 3px 1px rgba(60, 64, 67, 0.15);\n",
              "      fill: #174EA6;\n",
              "    }\n",
              "\n",
              "    [theme=dark] .colab-df-convert {\n",
              "      background-color: #3B4455;\n",
              "      fill: #D2E3FC;\n",
              "    }\n",
              "\n",
              "    [theme=dark] .colab-df-convert:hover {\n",
              "      background-color: #434B5C;\n",
              "      box-shadow: 0px 1px 3px 1px rgba(0, 0, 0, 0.15);\n",
              "      filter: drop-shadow(0px 1px 2px rgba(0, 0, 0, 0.3));\n",
              "      fill: #FFFFFF;\n",
              "    }\n",
              "  </style>\n",
              "\n",
              "      <script>\n",
              "        const buttonEl =\n",
              "          document.querySelector('#df-32fe3654-915f-4774-8d47-ad78a1bb1bea button.colab-df-convert');\n",
              "        buttonEl.style.display =\n",
              "          google.colab.kernel.accessAllowed ? 'block' : 'none';\n",
              "\n",
              "        async function convertToInteractive(key) {\n",
              "          const element = document.querySelector('#df-32fe3654-915f-4774-8d47-ad78a1bb1bea');\n",
              "          const dataTable =\n",
              "            await google.colab.kernel.invokeFunction('convertToInteractive',\n",
              "                                                     [key], {});\n",
              "          if (!dataTable) return;\n",
              "\n",
              "          const docLinkHtml = 'Like what you see? Visit the ' +\n",
              "            '<a target=\"_blank\" href=https://colab.research.google.com/notebooks/data_table.ipynb>data table notebook</a>'\n",
              "            + ' to learn more about interactive tables.';\n",
              "          element.innerHTML = '';\n",
              "          dataTable['output_type'] = 'display_data';\n",
              "          await google.colab.output.renderOutput(dataTable, element);\n",
              "          const docLink = document.createElement('div');\n",
              "          docLink.innerHTML = docLinkHtml;\n",
              "          element.appendChild(docLink);\n",
              "        }\n",
              "      </script>\n",
              "    </div>\n",
              "  </div>\n",
              "  "
            ]
          },
          "metadata": {},
          "execution_count": 3
        }
      ]
    },
    {
      "cell_type": "code",
      "source": [
        "df = df['Open'].values"
      ],
      "metadata": {
        "id": "gFOkUk7Sq34P"
      },
      "execution_count": 4,
      "outputs": []
    },
    {
      "cell_type": "code",
      "source": [
        "df"
      ],
      "metadata": {
        "colab": {
          "base_uri": "https://localhost:8080/"
        },
        "id": "XrzgfEMGq-uU",
        "outputId": "e2761524-4878-4911-df36-fad9ef5b33d4"
      },
      "execution_count": 5,
      "outputs": [
        {
          "output_type": "execute_result",
          "data": {
            "text/plain": [
              "array([ 173. ,  172. ,  171. , ..., 2013.4, 2021.3, 1993.7])"
            ]
          },
          "metadata": {},
          "execution_count": 5
        }
      ]
    },
    {
      "cell_type": "code",
      "source": [
        "plt.plot(df)"
      ],
      "metadata": {
        "colab": {
          "base_uri": "https://localhost:8080/",
          "height": 447
        },
        "id": "rLnDHxSrrRWG",
        "outputId": "85352646-5851-432b-f119-602a5d5498f7"
      },
      "execution_count": 6,
      "outputs": [
        {
          "output_type": "execute_result",
          "data": {
            "text/plain": [
              "[<matplotlib.lines.Line2D at 0x7f0eaad2f7c0>]"
            ]
          },
          "metadata": {},
          "execution_count": 6
        },
        {
          "output_type": "display_data",
          "data": {
            "text/plain": [
              "<Figure size 640x480 with 1 Axes>"
            ],
            "image/png": "[encoded data removed]"
          },
          "metadata": {}
        }
      ]
    },
    {
      "cell_type": "code",
      "source": [
        "df.shape"
      ],
      "metadata": {
        "colab": {
          "base_uri": "https://localhost:8080/"
        },
        "id": "6bySu3G7rTeL",
        "outputId": "2259fe1a-cadb-4fac-f3ab-1a1e856327d3"
      },
      "execution_count": 7,
      "outputs": [
        {
          "output_type": "execute_result",
          "data": {
            "text/plain": [
              "(12267,)"
            ]
          },
          "metadata": {},
          "execution_count": 7
        }
      ]
    },
    {
      "cell_type": "code",
      "source": [
        "df = df.reshape(-1,1)\n",
        "df.shape"
      ],
      "metadata": {
        "colab": {
          "base_uri": "https://localhost:8080/"
        },
        "id": "fWn4CvbHsNhG",
        "outputId": "83ce8c43-468e-440c-ac65-79d8b9c1b289"
      },
      "execution_count": 8,
      "outputs": [
        {
          "output_type": "execute_result",
          "data": {
            "text/plain": [
              "(12267, 1)"
            ]
          },
          "metadata": {},
          "execution_count": 8
        }
      ]
    },
    {
      "cell_type": "code",
      "source": [
        "df"
      ],
      "metadata": {
        "colab": {
          "base_uri": "https://localhost:8080/"
        },
        "id": "9nCVqpTrsPoo",
        "outputId": "c2cdf8c8-e40c-41cc-d970-2d90a54bd5bf"
      },
      "execution_count": 9,
      "outputs": [
        {
          "output_type": "execute_result",
          "data": {
            "text/plain": [
              "array([[ 173. ],\n",
              "       [ 172. ],\n",
              "       [ 171. ],\n",
              "       ...,\n",
              "       [2013.4],\n",
              "       [2021.3],\n",
              "       [1993.7]])"
            ]
          },
          "metadata": {},
          "execution_count": 9
        }
      ]
    },
    {
      "cell_type": "code",
      "source": [
        "#to calculate 80% training data\n",
        "12267*0.8"
      ],
      "metadata": {
        "colab": {
          "base_uri": "https://localhost:8080/"
        },
        "id": "oMQSeGbJsSSq",
        "outputId": "c22959d9-c5d8-4d1a-c028-3e486d19fabc"
      },
      "execution_count": 10,
      "outputs": [
        {
          "output_type": "execute_result",
          "data": {
            "text/plain": [
              "9813.6"
            ]
          },
          "metadata": {},
          "execution_count": 10
        }
      ]
    },
    {
      "cell_type": "code",
      "source": [
        "12267-9813"
      ],
      "metadata": {
        "colab": {
          "base_uri": "https://localhost:8080/"
        },
        "id": "aAfR5sFxsWFW",
        "outputId": "de0d02e7-1e7b-4e76-a63b-6b5552d537ff"
      },
      "execution_count": 11,
      "outputs": [
        {
          "output_type": "execute_result",
          "data": {
            "text/plain": [
              "2454"
            ]
          },
          "metadata": {},
          "execution_count": 11
        }
      ]
    },
    {
      "cell_type": "code",
      "source": [
        "dataset_train = np.array(df[0:int(df.shape[0]*0.8)])\n",
        "dataset_test = np.array(df[int(df.shape[0]*0.8)-60:])"
      ],
      "metadata": {
        "id": "jfWGRsxusZgp"
      },
      "execution_count": 12,
      "outputs": []
    },
    {
      "cell_type": "code",
      "source": [
        "dataset_train.shape"
      ],
      "metadata": {
        "colab": {
          "base_uri": "https://localhost:8080/"
        },
        "id": "4EOL5ZV2spK1",
        "outputId": "68186d63-4d82-4336-b9df-24855dfcc724"
      },
      "execution_count": 13,
      "outputs": [
        {
          "output_type": "execute_result",
          "data": {
            "text/plain": [
              "(9813, 1)"
            ]
          },
          "metadata": {},
          "execution_count": 13
        }
      ]
    },
    {
      "cell_type": "code",
      "source": [
        "dataset_test.shape"
      ],
      "metadata": {
        "colab": {
          "base_uri": "https://localhost:8080/"
        },
        "id": "I851Mdcssp8H",
        "outputId": "8034bbed-ead2-475e-e208-32480f6589d4"
      },
      "execution_count": 14,
      "outputs": [
        {
          "output_type": "execute_result",
          "data": {
            "text/plain": [
              "(2514, 1)"
            ]
          },
          "metadata": {},
          "execution_count": 14
        }
      ]
    },
    {
      "cell_type": "code",
      "source": [
        "scaler = MinMaxScaler(feature_range=(0,1))\n",
        "dataset_train = scaler.fit_transform(dataset_train)\n",
        "dataset_test = scaler.transform(dataset_test)"
      ],
      "metadata": {
        "id": "9yOHJ9PasssS"
      },
      "execution_count": 15,
      "outputs": []
    },
    {
      "cell_type": "code",
      "source": [
        "dataset_train"
      ],
      "metadata": {
        "colab": {
          "base_uri": "https://localhost:8080/"
        },
        "id": "AIAgGikLs3DI",
        "outputId": "c826c268-ca14-4b5c-8eb1-b4e287d4732c"
      },
      "execution_count": 16,
      "outputs": [
        {
          "output_type": "execute_result",
          "data": {
            "text/plain": [
              "array([[0.03948393],\n",
              "       [0.03892782],\n",
              "       [0.03837171],\n",
              "       ...,\n",
              "       [0.6469247 ],\n",
              "       [0.6558781 ],\n",
              "       [0.6588811 ]])"
            ]
          },
          "metadata": {},
          "execution_count": 16
        }
      ]
    },
    {
      "cell_type": "code",
      "source": [
        "plt.plot(dataset_train)"
      ],
      "metadata": {
        "colab": {
          "base_uri": "https://localhost:8080/",
          "height": 447
        },
        "id": "0xuWq692s42W",
        "outputId": "87f250ec-1cba-4a02-ac9e-4b6af150a5e3"
      },
      "execution_count": 17,
      "outputs": [
        {
          "output_type": "execute_result",
          "data": {
            "text/plain": [
              "[<matplotlib.lines.Line2D at 0x7f0eab9692a0>]"
            ]
          },
          "metadata": {},
          "execution_count": 17
        },
        {
          "output_type": "display_data",
          "data": {
            "text/plain": [
              "<Figure size 640x480 with 1 Axes>"
            ],
            "image/png": "[encoded data removed]"
          },
          "metadata": {}
        }
      ]
    },
    {
      "cell_type": "code",
      "source": [
        "#60 timestep\n",
        "def create_dataset(df):\n",
        "  x = []\n",
        "  y = []\n",
        "  for i in range(60,df.shape[0]):\n",
        "    x.append(df[i-60:i,0])\n",
        "    y.append(df[i,0])\n",
        "  x = np.array(x)\n",
        "  y = np.array(y)\n",
        "  return x,y"
      ],
      "metadata": {
        "id": "NkJmqQyZs7ka"
      },
      "execution_count": 18,
      "outputs": []
    },
    {
      "cell_type": "code",
      "source": [
        "x_train, y_train = create_dataset(dataset_train)"
      ],
      "metadata": {
        "id": "ikUD-BJMvJIh"
      },
      "execution_count": 19,
      "outputs": []
    },
    {
      "cell_type": "code",
      "source": [
        "x_train.shape"
      ],
      "metadata": {
        "colab": {
          "base_uri": "https://localhost:8080/"
        },
        "id": "z-m6s75nvKN3",
        "outputId": "6ace42b7-57fb-4041-dcba-400338ef4ac6"
      },
      "execution_count": 20,
      "outputs": [
        {
          "output_type": "execute_result",
          "data": {
            "text/plain": [
              "(9753, 60)"
            ]
          },
          "metadata": {},
          "execution_count": 20
        }
      ]
    },
    {
      "cell_type": "code",
      "source": [
        "y_train.shape"
      ],
      "metadata": {
        "colab": {
          "base_uri": "https://localhost:8080/"
        },
        "id": "4e7MuSYtvMbC",
        "outputId": "afc64aa6-f831-4a51-dc9a-2131d4e37f5b"
      },
      "execution_count": 21,
      "outputs": [
        {
          "output_type": "execute_result",
          "data": {
            "text/plain": [
              "(9753,)"
            ]
          },
          "metadata": {},
          "execution_count": 21
        }
      ]
    },
    {
      "cell_type": "code",
      "source": [
        "x_test,y_test = create_dataset(dataset_test)"
      ],
      "metadata": {
        "id": "dydnlcAnveT6"
      },
      "execution_count": 22,
      "outputs": []
    },
    {
      "cell_type": "code",
      "source": [
        "x_test.shape"
      ],
      "metadata": {
        "colab": {
          "base_uri": "https://localhost:8080/"
        },
        "id": "bbMvl79gvg7C",
        "outputId": "709d78b4-c533-4f45-9da1-0a30125a1d82"
      },
      "execution_count": 23,
      "outputs": [
        {
          "output_type": "execute_result",
          "data": {
            "text/plain": [
              "(2454, 60)"
            ]
          },
          "metadata": {},
          "execution_count": 23
        }
      ]
    },
    {
      "cell_type": "code",
      "source": [
        "x_test = np.reshape(x_test,(x_test.shape[0],x_test.shape[1],1))\n",
        "x_test.shape"
      ],
      "metadata": {
        "colab": {
          "base_uri": "https://localhost:8080/"
        },
        "id": "iYswNMyJvi_1",
        "outputId": "d2443efd-6b20-4d0b-bc90-2ca1f2d64507"
      },
      "execution_count": 24,
      "outputs": [
        {
          "output_type": "execute_result",
          "data": {
            "text/plain": [
              "(2454, 60, 1)"
            ]
          },
          "metadata": {},
          "execution_count": 24
        }
      ]
    },
    {
      "cell_type": "code",
      "source": [
        "x_train = np.reshape(x_train,(x_train.shape[0],x_train.shape[1],1))"
      ],
      "metadata": {
        "id": "Yqk0PtsWvlVM"
      },
      "execution_count": 26,
      "outputs": []
    },
    {
      "cell_type": "code",
      "source": [
        "x_train.shape"
      ],
      "metadata": {
        "colab": {
          "base_uri": "https://localhost:8080/"
        },
        "id": "LMCAnmjhvnLL",
        "outputId": "e3b7ae0a-24f6-430d-f4f0-09298d93e824"
      },
      "execution_count": 27,
      "outputs": [
        {
          "output_type": "execute_result",
          "data": {
            "text/plain": [
              "(9753, 60, 1)"
            ]
          },
          "metadata": {},
          "execution_count": 27
        }
      ]
    },
    {
      "cell_type": "code",
      "source": [
        "model = Sequential()\n",
        "model.add(LSTM(units=100,return_sequences=True,input_shape=(60,1)))\n",
        "model.add(Dropout(0.2))\n",
        "model.add(LSTM(units=100,return_sequences=True))\n",
        "model.add(Dropout(0.2))\n",
        "model.add(LSTM(units=100,return_sequences=True))\n",
        "model.add(Dropout(0.2))\n",
        "model.add(LSTM(units=100))\n",
        "model.add(Dropout(0.2))\n",
        "model.add(Dense(units=1))"
      ],
      "metadata": {
        "id": "zcgmgtovvw4L"
      },
      "execution_count": 28,
      "outputs": []
    },
    {
      "cell_type": "code",
      "source": [
        "import tensorflow as tf\n",
        "tf.keras.utils.plot_model(model,show_shapes=True)"
      ],
      "metadata": {
        "colab": {
          "base_uri": "https://localhost:8080/",
          "height": 1000
        },
        "id": "EZC6yK9wv37U",
        "outputId": "a82058a2-fcac-4522-808e-83499e2db951"
      },
      "execution_count": 29,
      "outputs": [
        {
          "output_type": "execute_result",
          "data": {
            "image/png": "[encoded data removed]",
            "text/plain": [
              "<IPython.core.display.Image object>"
            ]
          },
          "metadata": {},
          "execution_count": 29
        }
      ]
    },
    {
      "cell_type": "code",
      "source": [
        "model.compile(loss='mean_squared_error',optimizer='adam')"
      ],
      "metadata": {
        "id": "0TCitnMFv5-I"
      },
      "execution_count": 30,
      "outputs": []
    },
    {
      "cell_type": "code",
      "source": [
        "model.fit(x_train,y_train,epochs=40,batch_size=32)"
      ],
      "metadata": {
        "colab": {
          "base_uri": "https://localhost:8080/"
        },
        "id": "ucHg4E-lv-ID",
        "outputId": "d69af65d-4cb0-47dd-c9ac-3a5ec3427b40"
      },
      "execution_count": 31,
      "outputs": [
        {
          "output_type": "stream",
          "name": "stdout",
          "text": [
            "Epoch 1/40\n",
            "305/305 [==============================] - 19s 18ms/step - loss: 0.0020\n",
            "Epoch 2/40\n",
            "305/305 [==============================] - 5s 16ms/step - loss: 9.5502e-04\n",
            "Epoch 3/40\n",
            "305/305 [==============================] - 5s 16ms/step - loss: 6.6667e-04\n",
            "Epoch 4/40\n",
            "305/305 [==============================] - 6s 18ms/step - loss: 6.0744e-04\n",
            "Epoch 5/40\n",
            "305/305 [==============================] - 5s 15ms/step - loss: 6.3750e-04\n",
            "Epoch 6/40\n",
            "305/305 [==============================] - 5s 17ms/step - loss: 6.7484e-04\n",
            "Epoch 7/40\n",
            "305/305 [==============================] - 5s 16ms/step - loss: 5.0143e-04\n",
            "Epoch 8/40\n",
            "305/305 [==============================] - 5s 15ms/step - loss: 4.9932e-04\n",
            "Epoch 9/40\n",
            "305/305 [==============================] - 6s 18ms/step - loss: 4.0125e-04\n",
            "Epoch 10/40\n",
            "305/305 [==============================] - 6s 20ms/step - loss: 4.0413e-04\n",
            "Epoch 11/40\n",
            "305/305 [==============================] - 6s 19ms/step - loss: 4.3539e-04\n",
            "Epoch 12/40\n",
            "305/305 [==============================] - 5s 16ms/step - loss: 3.7094e-04\n",
            "Epoch 13/40\n",
            "305/305 [==============================] - 5s 17ms/step - loss: 3.7794e-04\n",
            "Epoch 14/40\n",
            "305/305 [==============================] - 5s 17ms/step - loss: 3.5783e-04\n",
            "Epoch 15/40\n",
            "305/305 [==============================] - 5s 16ms/step - loss: 4.3608e-04\n",
            "Epoch 16/40\n",
            "305/305 [==============================] - 6s 18ms/step - loss: 3.8098e-04\n",
            "Epoch 17/40\n",
            "305/305 [==============================] - 5s 16ms/step - loss: 3.9230e-04\n",
            "Epoch 18/40\n",
            "305/305 [==============================] - 5s 17ms/step - loss: 3.6806e-04\n",
            "Epoch 19/40\n",
            "305/305 [==============================] - 5s 17ms/step - loss: 3.6340e-04\n",
            "Epoch 20/40\n",
            "305/305 [==============================] - 5s 16ms/step - loss: 3.1129e-04\n",
            "Epoch 21/40\n",
            "305/305 [==============================] - 6s 18ms/step - loss: 3.2930e-04\n",
            "Epoch 22/40\n",
            "305/305 [==============================] - 6s 19ms/step - loss: 3.9603e-04\n",
            "Epoch 23/40\n",
            "305/305 [==============================] - 6s 19ms/step - loss: 3.6553e-04\n",
            "Epoch 24/40\n",
            "305/305 [==============================] - 5s 16ms/step - loss: 3.2505e-04\n",
            "Epoch 25/40\n",
            "305/305 [==============================] - 5s 16ms/step - loss: 3.1790e-04\n",
            "Epoch 26/40\n",
            "305/305 [==============================] - 5s 17ms/step - loss: 3.1801e-04\n",
            "Epoch 27/40\n",
            "305/305 [==============================] - 5s 16ms/step - loss: 3.0925e-04\n",
            "Epoch 28/40\n",
            "305/305 [==============================] - 6s 18ms/step - loss: 2.9550e-04\n",
            "Epoch 29/40\n",
            "305/305 [==============================] - 5s 16ms/step - loss: 3.0803e-04\n",
            "Epoch 30/40\n",
            "305/305 [==============================] - 5s 17ms/step - loss: 2.7129e-04\n",
            "Epoch 31/40\n",
            "305/305 [==============================] - 5s 17ms/step - loss: 3.4758e-04\n",
            "Epoch 32/40\n",
            "305/305 [==============================] - 5s 16ms/step - loss: 2.9680e-04\n",
            "Epoch 33/40\n",
            "305/305 [==============================] - 6s 18ms/step - loss: 3.0019e-04\n",
            "Epoch 34/40\n",
            "305/305 [==============================] - 5s 16ms/step - loss: 2.6154e-04\n",
            "Epoch 35/40\n",
            "305/305 [==============================] - 5s 17ms/step - loss: 2.6612e-04\n",
            "Epoch 36/40\n",
            "305/305 [==============================] - 5s 16ms/step - loss: 2.7394e-04\n",
            "Epoch 37/40\n",
            "305/305 [==============================] - 5s 16ms/step - loss: 2.9472e-04\n",
            "Epoch 38/40\n",
            "305/305 [==============================] - 6s 18ms/step - loss: 3.2193e-04\n",
            "Epoch 39/40\n",
            "305/305 [==============================] - 5s 15ms/step - loss: 2.7169e-04\n",
            "Epoch 40/40\n",
            "305/305 [==============================] - 5s 17ms/step - loss: 2.6145e-04\n"
          ]
        },
        {
          "output_type": "execute_result",
          "data": {
            "text/plain": [
              "<keras.callbacks.History at 0x7f0e1a807cd0>"
            ]
          },
          "metadata": {},
          "execution_count": 31
        }
      ]
    },
    {
      "cell_type": "code",
      "source": [
        "predictions = model.predict(x_test)\n",
        "predictions"
      ],
      "metadata": {
        "colab": {
          "base_uri": "https://localhost:8080/"
        },
        "id": "kW66ptBfv__z",
        "outputId": "502355d1-ab75-4b64-9a1b-414cca3dc3d6"
      },
      "execution_count": 32,
      "outputs": [
        {
          "output_type": "stream",
          "name": "stdout",
          "text": [
            "77/77 [==============================] - 2s 7ms/step\n"
          ]
        },
        {
          "output_type": "execute_result",
          "data": {
            "text/plain": [
              "array([[0.6607315 ],\n",
              "       [0.6624174 ],\n",
              "       [0.6616818 ],\n",
              "       ...,\n",
              "       [0.9468839 ],\n",
              "       [0.94704765],\n",
              "       [0.9467231 ]], dtype=float32)"
            ]
          },
          "metadata": {},
          "execution_count": 32
        }
      ]
    },
    {
      "cell_type": "code",
      "source": [
        "y_test"
      ],
      "metadata": {
        "colab": {
          "base_uri": "https://localhost:8080/"
        },
        "id": "IiSjvLDhwF9C",
        "outputId": "0db15136-ab7f-433c-9f6d-10cc972e8f62"
      },
      "execution_count": 33,
      "outputs": [
        {
          "output_type": "execute_result",
          "data": {
            "text/plain": [
              "array([0.66004894, 0.65231899, 0.65204093, ..., 1.06295184, 1.06734512,\n",
              "       1.05199644])"
            ]
          },
          "metadata": {},
          "execution_count": 33
        }
      ]
    },
    {
      "cell_type": "code",
      "source": [
        "plt.figure(figsize=(4,4))\n",
        "plt.plot(predictions,color='red')\n",
        "plt.plot(y_test,color='blue')\n",
        "plt.show()"
      ],
      "metadata": {
        "colab": {
          "base_uri": "https://localhost:8080/",
          "height": 368
        },
        "id": "dNb2vozywI1m",
        "outputId": "704bd7b2-3bb0-47b0-90d8-cbc24f434ca8"
      },
      "execution_count": 34,
      "outputs": [
        {
          "output_type": "display_data",
          "data": {
            "text/plain": [
              "<Figure size 400x400 with 1 Axes>"
            ],
            "image/png": "[encoded data removed]"
          },
          "metadata": {}
        }
      ]
    },
    {
      "cell_type": "code",
      "source": [],
      "metadata": {
        "id": "FLhHY1wu_HfX"
      },
      "execution_count": 39,
      "outputs": []
    },
    {
      "cell_type": "code",
      "source": [],
      "metadata": {
        "id": "Kn9jI_R9wMys"
      },
      "execution_count": 39,
      "outputs": []
    },
    {
      "cell_type": "code",
      "source": [],
      "metadata": {
        "id": "6MM4Drod-j4l"
      },
      "execution_count": null,
      "outputs": []
    }
  ]
}